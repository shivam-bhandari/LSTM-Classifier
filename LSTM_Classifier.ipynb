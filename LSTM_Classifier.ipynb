{
  "nbformat": 4,
  "nbformat_minor": 0,
  "metadata": {
    "colab": {
      "provenance": [],
      "authorship_tag": "ABX9TyO97I0Xzoq203tl4rPchsG3",
      "include_colab_link": true
    },
    "kernelspec": {
      "name": "python3",
      "display_name": "Python 3"
    },
    "language_info": {
      "name": "python"
    }
  },
  "cells": [
    {
      "cell_type": "markdown",
      "metadata": {
        "id": "view-in-github",
        "colab_type": "text"
      },
      "source": [
        "<a href=\"https://colab.research.google.com/github/shivam-bhandari/LSTM-Classifier/blob/main/LSTM_Classifier.ipynb\" target=\"_parent\"><img src=\"https://colab.research.google.com/assets/colab-badge.svg\" alt=\"Open In Colab\"/></a>"
      ]
    },
    {
      "cell_type": "code",
      "execution_count": 14,
      "metadata": {
        "colab": {
          "base_uri": "https://localhost:8080/"
        },
        "id": "zbr5BpDq8GeN",
        "outputId": "61b9ae16-6f46-4f52-a967-bd1d8de0a0ad"
      },
      "outputs": [
        {
          "output_type": "stream",
          "name": "stderr",
          "text": [
            "[nltk_data] Downloading package stopwords to /root/nltk_data...\n",
            "[nltk_data]   Package stopwords is already up-to-date!\n"
          ]
        },
        {
          "output_type": "execute_result",
          "data": {
            "text/plain": [
              "True"
            ]
          },
          "metadata": {},
          "execution_count": 14
        }
      ],
      "source": [
        "import re\n",
        "import nltk\n",
        "import numpy as np\n",
        "import pandas as pd\n",
        "import tensorflow as tf\n",
        "from nltk.corpus import stopwords\n",
        "from nltk.stem.porter import PorterStemmer\n",
        "from tensorflow.keras.models import Sequential\n",
        "from sklearn.model_selection import train_test_split\n",
        "from tensorflow.keras.preprocessing.text import one_hot\n",
        "from sklearn.metrics import confusion_matrix,accuracy_score\n",
        "from tensorflow.keras.preprocessing.sequence import pad_sequences\n",
        "from tensorflow.keras.layers import Embedding,LSTM,Dense,Dropout\n",
        "\n",
        "nltk.download('stopwords')"
      ]
    },
    {
      "cell_type": "code",
      "source": [
        "df = pd.read_csv('train.csv')\n",
        "df.dropna(inplace=True)\n",
        "df.reset_index(inplace=True)\n",
        "df.head(10)"
      ],
      "metadata": {
        "colab": {
          "base_uri": "https://localhost:8080/",
          "height": 363
        },
        "id": "vVake28_8LFf",
        "outputId": "b53ca9aa-0634-4dfe-eef5-118e2cb396da"
      },
      "execution_count": 15,
      "outputs": [
        {
          "output_type": "execute_result",
          "data": {
            "text/plain": [
              "   index  id                                              title  \\\n",
              "0      0   0  House Dem Aide: We Didn’t Even See Comey’s Let...   \n",
              "1      1   1  FLYNN: Hillary Clinton, Big Woman on Campus - ...   \n",
              "2      2   2                  Why the Truth Might Get You Fired   \n",
              "3      3   3  15 Civilians Killed In Single US Airstrike Hav...   \n",
              "4      4   4  Iranian woman jailed for fictional unpublished...   \n",
              "5      5   5  Jackie Mason: Hollywood Would Love Trump if He...   \n",
              "6      7   7  Benoît Hamon Wins French Socialist Party’s Pre...   \n",
              "7      9   9  A Back-Channel Plan for Ukraine and Russia, Co...   \n",
              "8     10  10  Obama’s Organizing for Action Partners with So...   \n",
              "9     11  11  BBC Comedy Sketch \"Real Housewives of ISIS\" Ca...   \n",
              "\n",
              "                         author  \\\n",
              "0                 Darrell Lucus   \n",
              "1               Daniel J. Flynn   \n",
              "2            Consortiumnews.com   \n",
              "3               Jessica Purkiss   \n",
              "4                Howard Portnoy   \n",
              "5               Daniel Nussbaum   \n",
              "6               Alissa J. Rubin   \n",
              "7  Megan Twohey and Scott Shane   \n",
              "8                   Aaron Klein   \n",
              "9               Chris Tomlinson   \n",
              "\n",
              "                                                text  label  \n",
              "0  House Dem Aide: We Didn’t Even See Comey’s Let...      1  \n",
              "1  Ever get the feeling your life circles the rou...      0  \n",
              "2  Why the Truth Might Get You Fired October 29, ...      1  \n",
              "3  Videos 15 Civilians Killed In Single US Airstr...      1  \n",
              "4  Print \\nAn Iranian woman has been sentenced to...      1  \n",
              "5  In these trying times, Jackie Mason is the Voi...      0  \n",
              "6  PARIS  —   France chose an idealistic, traditi...      0  \n",
              "7  A week before Michael T. Flynn resigned as nat...      0  \n",
              "8  Organizing for Action, the activist group that...      0  \n",
              "9  The BBC produced spoof on the “Real Housewives...      0  "
            ],
            "text/html": [
              "\n",
              "  <div id=\"df-2d0d52a4-9f8c-44bc-b4e3-f5ece3988d7f\">\n",
              "    <div class=\"colab-df-container\">\n",
              "      <div>\n",
              "<style scoped>\n",
              "    .dataframe tbody tr th:only-of-type {\n",
              "        vertical-align: middle;\n",
              "    }\n",
              "\n",
              "    .dataframe tbody tr th {\n",
              "        vertical-align: top;\n",
              "    }\n",
              "\n",
              "    .dataframe thead th {\n",
              "        text-align: right;\n",
              "    }\n",
              "</style>\n",
              "<table border=\"1\" class=\"dataframe\">\n",
              "  <thead>\n",
              "    <tr style=\"text-align: right;\">\n",
              "      <th></th>\n",
              "      <th>index</th>\n",
              "      <th>id</th>\n",
              "      <th>title</th>\n",
              "      <th>author</th>\n",
              "      <th>text</th>\n",
              "      <th>label</th>\n",
              "    </tr>\n",
              "  </thead>\n",
              "  <tbody>\n",
              "    <tr>\n",
              "      <th>0</th>\n",
              "      <td>0</td>\n",
              "      <td>0</td>\n",
              "      <td>House Dem Aide: We Didn’t Even See Comey’s Let...</td>\n",
              "      <td>Darrell Lucus</td>\n",
              "      <td>House Dem Aide: We Didn’t Even See Comey’s Let...</td>\n",
              "      <td>1</td>\n",
              "    </tr>\n",
              "    <tr>\n",
              "      <th>1</th>\n",
              "      <td>1</td>\n",
              "      <td>1</td>\n",
              "      <td>FLYNN: Hillary Clinton, Big Woman on Campus - ...</td>\n",
              "      <td>Daniel J. Flynn</td>\n",
              "      <td>Ever get the feeling your life circles the rou...</td>\n",
              "      <td>0</td>\n",
              "    </tr>\n",
              "    <tr>\n",
              "      <th>2</th>\n",
              "      <td>2</td>\n",
              "      <td>2</td>\n",
              "      <td>Why the Truth Might Get You Fired</td>\n",
              "      <td>Consortiumnews.com</td>\n",
              "      <td>Why the Truth Might Get You Fired October 29, ...</td>\n",
              "      <td>1</td>\n",
              "    </tr>\n",
              "    <tr>\n",
              "      <th>3</th>\n",
              "      <td>3</td>\n",
              "      <td>3</td>\n",
              "      <td>15 Civilians Killed In Single US Airstrike Hav...</td>\n",
              "      <td>Jessica Purkiss</td>\n",
              "      <td>Videos 15 Civilians Killed In Single US Airstr...</td>\n",
              "      <td>1</td>\n",
              "    </tr>\n",
              "    <tr>\n",
              "      <th>4</th>\n",
              "      <td>4</td>\n",
              "      <td>4</td>\n",
              "      <td>Iranian woman jailed for fictional unpublished...</td>\n",
              "      <td>Howard Portnoy</td>\n",
              "      <td>Print \\nAn Iranian woman has been sentenced to...</td>\n",
              "      <td>1</td>\n",
              "    </tr>\n",
              "    <tr>\n",
              "      <th>5</th>\n",
              "      <td>5</td>\n",
              "      <td>5</td>\n",
              "      <td>Jackie Mason: Hollywood Would Love Trump if He...</td>\n",
              "      <td>Daniel Nussbaum</td>\n",
              "      <td>In these trying times, Jackie Mason is the Voi...</td>\n",
              "      <td>0</td>\n",
              "    </tr>\n",
              "    <tr>\n",
              "      <th>6</th>\n",
              "      <td>7</td>\n",
              "      <td>7</td>\n",
              "      <td>Benoît Hamon Wins French Socialist Party’s Pre...</td>\n",
              "      <td>Alissa J. Rubin</td>\n",
              "      <td>PARIS  —   France chose an idealistic, traditi...</td>\n",
              "      <td>0</td>\n",
              "    </tr>\n",
              "    <tr>\n",
              "      <th>7</th>\n",
              "      <td>9</td>\n",
              "      <td>9</td>\n",
              "      <td>A Back-Channel Plan for Ukraine and Russia, Co...</td>\n",
              "      <td>Megan Twohey and Scott Shane</td>\n",
              "      <td>A week before Michael T. Flynn resigned as nat...</td>\n",
              "      <td>0</td>\n",
              "    </tr>\n",
              "    <tr>\n",
              "      <th>8</th>\n",
              "      <td>10</td>\n",
              "      <td>10</td>\n",
              "      <td>Obama’s Organizing for Action Partners with So...</td>\n",
              "      <td>Aaron Klein</td>\n",
              "      <td>Organizing for Action, the activist group that...</td>\n",
              "      <td>0</td>\n",
              "    </tr>\n",
              "    <tr>\n",
              "      <th>9</th>\n",
              "      <td>11</td>\n",
              "      <td>11</td>\n",
              "      <td>BBC Comedy Sketch \"Real Housewives of ISIS\" Ca...</td>\n",
              "      <td>Chris Tomlinson</td>\n",
              "      <td>The BBC produced spoof on the “Real Housewives...</td>\n",
              "      <td>0</td>\n",
              "    </tr>\n",
              "  </tbody>\n",
              "</table>\n",
              "</div>\n",
              "      <button class=\"colab-df-convert\" onclick=\"convertToInteractive('df-2d0d52a4-9f8c-44bc-b4e3-f5ece3988d7f')\"\n",
              "              title=\"Convert this dataframe to an interactive table.\"\n",
              "              style=\"display:none;\">\n",
              "        \n",
              "  <svg xmlns=\"http://www.w3.org/2000/svg\" height=\"24px\"viewBox=\"0 0 24 24\"\n",
              "       width=\"24px\">\n",
              "    <path d=\"M0 0h24v24H0V0z\" fill=\"none\"/>\n",
              "    <path d=\"M18.56 5.44l.94 2.06.94-2.06 2.06-.94-2.06-.94-.94-2.06-.94 2.06-2.06.94zm-11 1L8.5 8.5l.94-2.06 2.06-.94-2.06-.94L8.5 2.5l-.94 2.06-2.06.94zm10 10l.94 2.06.94-2.06 2.06-.94-2.06-.94-.94-2.06-.94 2.06-2.06.94z\"/><path d=\"M17.41 7.96l-1.37-1.37c-.4-.4-.92-.59-1.43-.59-.52 0-1.04.2-1.43.59L10.3 9.45l-7.72 7.72c-.78.78-.78 2.05 0 2.83L4 21.41c.39.39.9.59 1.41.59.51 0 1.02-.2 1.41-.59l7.78-7.78 2.81-2.81c.8-.78.8-2.07 0-2.86zM5.41 20L4 18.59l7.72-7.72 1.47 1.35L5.41 20z\"/>\n",
              "  </svg>\n",
              "      </button>\n",
              "      \n",
              "  <style>\n",
              "    .colab-df-container {\n",
              "      display:flex;\n",
              "      flex-wrap:wrap;\n",
              "      gap: 12px;\n",
              "    }\n",
              "\n",
              "    .colab-df-convert {\n",
              "      background-color: #E8F0FE;\n",
              "      border: none;\n",
              "      border-radius: 50%;\n",
              "      cursor: pointer;\n",
              "      display: none;\n",
              "      fill: #1967D2;\n",
              "      height: 32px;\n",
              "      padding: 0 0 0 0;\n",
              "      width: 32px;\n",
              "    }\n",
              "\n",
              "    .colab-df-convert:hover {\n",
              "      background-color: #E2EBFA;\n",
              "      box-shadow: 0px 1px 2px rgba(60, 64, 67, 0.3), 0px 1px 3px 1px rgba(60, 64, 67, 0.15);\n",
              "      fill: #174EA6;\n",
              "    }\n",
              "\n",
              "    [theme=dark] .colab-df-convert {\n",
              "      background-color: #3B4455;\n",
              "      fill: #D2E3FC;\n",
              "    }\n",
              "\n",
              "    [theme=dark] .colab-df-convert:hover {\n",
              "      background-color: #434B5C;\n",
              "      box-shadow: 0px 1px 3px 1px rgba(0, 0, 0, 0.15);\n",
              "      filter: drop-shadow(0px 1px 2px rgba(0, 0, 0, 0.3));\n",
              "      fill: #FFFFFF;\n",
              "    }\n",
              "  </style>\n",
              "\n",
              "      <script>\n",
              "        const buttonEl =\n",
              "          document.querySelector('#df-2d0d52a4-9f8c-44bc-b4e3-f5ece3988d7f button.colab-df-convert');\n",
              "        buttonEl.style.display =\n",
              "          google.colab.kernel.accessAllowed ? 'block' : 'none';\n",
              "\n",
              "        async function convertToInteractive(key) {\n",
              "          const element = document.querySelector('#df-2d0d52a4-9f8c-44bc-b4e3-f5ece3988d7f');\n",
              "          const dataTable =\n",
              "            await google.colab.kernel.invokeFunction('convertToInteractive',\n",
              "                                                     [key], {});\n",
              "          if (!dataTable) return;\n",
              "\n",
              "          const docLinkHtml = 'Like what you see? Visit the ' +\n",
              "            '<a target=\"_blank\" href=https://colab.research.google.com/notebooks/data_table.ipynb>data table notebook</a>'\n",
              "            + ' to learn more about interactive tables.';\n",
              "          element.innerHTML = '';\n",
              "          dataTable['output_type'] = 'display_data';\n",
              "          await google.colab.output.renderOutput(dataTable, element);\n",
              "          const docLink = document.createElement('div');\n",
              "          docLink.innerHTML = docLinkHtml;\n",
              "          element.appendChild(docLink);\n",
              "        }\n",
              "      </script>\n",
              "    </div>\n",
              "  </div>\n",
              "  "
            ]
          },
          "metadata": {},
          "execution_count": 15
        }
      ]
    },
    {
      "cell_type": "code",
      "source": [
        "X = df['title']\n",
        "y = df['label']"
      ],
      "metadata": {
        "id": "Ii84PtsC9Lib"
      },
      "execution_count": 16,
      "outputs": []
    },
    {
      "cell_type": "code",
      "source": [
        "ps = PorterStemmer()\n",
        "corpus = []\n",
        "\n",
        "for i in range(len(X)):\n",
        "    text = X[i]\n",
        "    text = re.sub('[^a-zA-Z]',' ',text)\n",
        "    text = text.lower()\n",
        "    text = text.split()\n",
        "    text = [ps.stem(t) for t in text if t not in stopwords.words('english')]\n",
        "    corpus.append(' '.join(text))"
      ],
      "metadata": {
        "id": "a7Mq-zan9MdT"
      },
      "execution_count": null,
      "outputs": []
    },
    {
      "cell_type": "code",
      "source": [
        "vocab_size = 5000\n",
        "sent_len = 20\n",
        "\n",
        "one_hot_encoded = [one_hot(x,vocab_size) for x in corpus]\n",
        "one_hot_encoded = pad_sequences(one_hot_encoded,maxlen=sent_len)\n",
        "one_hot_encoded[0]"
      ],
      "metadata": {
        "id": "gvdhqv5T9Mgs"
      },
      "execution_count": null,
      "outputs": []
    },
    {
      "cell_type": "code",
      "source": [
        "X = np.array(one_hot_encoded)\n",
        "y = np.array(y)\n",
        "X_train, X_test, y_train, y_test = train_test_split(X, y, test_size=0.33, random_state=42)"
      ],
      "metadata": {
        "id": "Kb0MlPBp9Mi_"
      },
      "execution_count": null,
      "outputs": []
    },
    {
      "cell_type": "code",
      "source": [
        "no_of_output_features = 40\n",
        "\n",
        "model = Sequential()\n",
        "\n",
        "model.add(Embedding(vocab_size,no_of_output_features,input_length=sent_len))\n",
        "model.add(Dropout(0.5))\n",
        "model.add(LSTM(100))\n",
        "model.add(Dropout(0.5))\n",
        "model.add(Dense(1))\n",
        "\n",
        "model.compile(optimizer='adam',loss='binary_crossentropy',metrics=['accuracy'])\n",
        "\n",
        "model.summary()"
      ],
      "metadata": {
        "id": "tB_reuzw9MmP"
      },
      "execution_count": null,
      "outputs": []
    },
    {
      "cell_type": "code",
      "source": [
        "model.fit(X_train,y_train,validation_data=(X_test,y_test),batch_size=64,epochs=40)"
      ],
      "metadata": {
        "colab": {
          "base_uri": "https://localhost:8080/"
        },
        "id": "YNDd0iFK9Mo1",
        "outputId": "d242e7e1-0754-49a9-bc43-3bc0408b0da5"
      },
      "execution_count": 12,
      "outputs": [
        {
          "metadata": {
            "tags": null
          },
          "name": "stdout",
          "output_type": "stream",
          "text": [
            "Epoch 1/40\n",
            "192/192 [==============================] - 12s 47ms/step - loss: 0.5200 - accuracy: 0.7621 - val_loss: 0.2383 - val_accuracy: 0.9062\n",
            "Epoch 2/40\n",
            "192/192 [==============================] - 8s 39ms/step - loss: 0.2376 - accuracy: 0.9219 - val_loss: 0.2632 - val_accuracy: 0.9170\n",
            "Epoch 3/40\n",
            "192/192 [==============================] - 9s 46ms/step - loss: 0.1930 - accuracy: 0.9362 - val_loss: 0.3199 - val_accuracy: 0.9137\n",
            "Epoch 4/40\n",
            "192/192 [==============================] - 11s 55ms/step - loss: 0.1962 - accuracy: 0.9442 - val_loss: 0.4125 - val_accuracy: 0.9138\n",
            "Epoch 5/40\n",
            "192/192 [==============================] - 7s 38ms/step - loss: 0.1682 - accuracy: 0.9533 - val_loss: 0.3609 - val_accuracy: 0.8882\n",
            "Epoch 6/40\n",
            "192/192 [==============================] - 9s 45ms/step - loss: 0.2111 - accuracy: 0.9259 - val_loss: 0.5223 - val_accuracy: 0.8321\n",
            "Epoch 7/40\n",
            "192/192 [==============================] - 9s 45ms/step - loss: 0.1828 - accuracy: 0.9460 - val_loss: 0.5853 - val_accuracy: 0.8988\n",
            "Epoch 8/40\n",
            "192/192 [==============================] - 7s 38ms/step - loss: 0.1426 - accuracy: 0.9649 - val_loss: 0.5354 - val_accuracy: 0.8747\n",
            "Epoch 9/40\n",
            "192/192 [==============================] - 9s 45ms/step - loss: 0.1441 - accuracy: 0.9647 - val_loss: 0.6409 - val_accuracy: 0.9147\n",
            "Epoch 10/40\n",
            "192/192 [==============================] - 9s 47ms/step - loss: 0.1126 - accuracy: 0.9722 - val_loss: 0.6623 - val_accuracy: 0.9168\n",
            "Epoch 11/40\n",
            "192/192 [==============================] - 7s 38ms/step - loss: 0.1083 - accuracy: 0.9797 - val_loss: 0.7239 - val_accuracy: 0.9176\n",
            "Epoch 12/40\n",
            "192/192 [==============================] - 9s 45ms/step - loss: 0.1130 - accuracy: 0.9793 - val_loss: 0.7148 - val_accuracy: 0.9178\n",
            "Epoch 13/40\n",
            "192/192 [==============================] - 9s 47ms/step - loss: 0.0858 - accuracy: 0.9845 - val_loss: 0.6976 - val_accuracy: 0.9114\n",
            "Epoch 14/40\n",
            "192/192 [==============================] - 7s 38ms/step - loss: 0.1010 - accuracy: 0.9796 - val_loss: 0.4580 - val_accuracy: 0.8923\n",
            "Epoch 15/40\n",
            "192/192 [==============================] - 9s 46ms/step - loss: 0.0958 - accuracy: 0.9809 - val_loss: 0.7247 - val_accuracy: 0.9175\n",
            "Epoch 16/40\n",
            "192/192 [==============================] - 9s 47ms/step - loss: 0.0735 - accuracy: 0.9873 - val_loss: 0.7595 - val_accuracy: 0.9178\n",
            "Epoch 17/40\n",
            "192/192 [==============================] - 7s 38ms/step - loss: 0.0695 - accuracy: 0.9882 - val_loss: 0.7751 - val_accuracy: 0.9150\n",
            "Epoch 18/40\n",
            "192/192 [==============================] - 9s 45ms/step - loss: 0.0687 - accuracy: 0.9878 - val_loss: 0.8900 - val_accuracy: 0.8638\n",
            "Epoch 19/40\n",
            "192/192 [==============================] - 9s 47ms/step - loss: 0.0746 - accuracy: 0.9817 - val_loss: 0.7085 - val_accuracy: 0.9110\n",
            "Epoch 20/40\n",
            "192/192 [==============================] - 7s 38ms/step - loss: 0.0578 - accuracy: 0.9913 - val_loss: 0.7963 - val_accuracy: 0.9133\n",
            "Epoch 21/40\n",
            "192/192 [==============================] - 9s 46ms/step - loss: 0.0526 - accuracy: 0.9936 - val_loss: 0.7957 - val_accuracy: 0.9114\n",
            "Epoch 22/40\n",
            "192/192 [==============================] - 9s 47ms/step - loss: 0.0551 - accuracy: 0.9928 - val_loss: 0.8237 - val_accuracy: 0.9127\n",
            "Epoch 23/40\n",
            "192/192 [==============================] - 7s 38ms/step - loss: 0.0455 - accuracy: 0.9942 - val_loss: 0.8666 - val_accuracy: 0.9117\n",
            "Epoch 24/40\n",
            "192/192 [==============================] - 9s 46ms/step - loss: 0.0485 - accuracy: 0.9925 - val_loss: 0.8643 - val_accuracy: 0.9102\n",
            "Epoch 25/40\n",
            "192/192 [==============================] - 9s 47ms/step - loss: 0.0434 - accuracy: 0.9944 - val_loss: 0.9183 - val_accuracy: 0.9135\n",
            "Epoch 26/40\n",
            "192/192 [==============================] - 7s 38ms/step - loss: 0.2008 - accuracy: 0.9824 - val_loss: 0.9796 - val_accuracy: 0.8855\n",
            "Epoch 27/40\n",
            "192/192 [==============================] - 10s 53ms/step - loss: 0.1880 - accuracy: 0.9700 - val_loss: 0.8742 - val_accuracy: 0.9092\n",
            "Epoch 28/40\n",
            "192/192 [==============================] - 9s 45ms/step - loss: 0.0602 - accuracy: 0.9913 - val_loss: 0.8735 - val_accuracy: 0.9123\n",
            "Epoch 29/40\n",
            "192/192 [==============================] - 9s 46ms/step - loss: 0.0530 - accuracy: 0.9916 - val_loss: 0.9071 - val_accuracy: 0.9123\n",
            "Epoch 30/40\n",
            "192/192 [==============================] - 9s 45ms/step - loss: 0.0495 - accuracy: 0.9946 - val_loss: 0.9121 - val_accuracy: 0.9102\n",
            "Epoch 31/40\n",
            "192/192 [==============================] - 9s 46ms/step - loss: 0.0449 - accuracy: 0.9953 - val_loss: 0.9365 - val_accuracy: 0.9123\n",
            "Epoch 32/40\n",
            "192/192 [==============================] - 7s 38ms/step - loss: 0.0428 - accuracy: 0.9958 - val_loss: 0.9708 - val_accuracy: 0.9133\n",
            "Epoch 33/40\n",
            "192/192 [==============================] - 9s 46ms/step - loss: 0.0479 - accuracy: 0.9937 - val_loss: 0.9940 - val_accuracy: 0.9069\n",
            "Epoch 34/40\n",
            "192/192 [==============================] - 9s 46ms/step - loss: 0.0606 - accuracy: 0.9888 - val_loss: 0.9710 - val_accuracy: 0.9104\n",
            "Epoch 35/40\n",
            "192/192 [==============================] - 8s 39ms/step - loss: 0.0439 - accuracy: 0.9949 - val_loss: 0.9999 - val_accuracy: 0.9085\n",
            "Epoch 36/40\n",
            "192/192 [==============================] - 9s 46ms/step - loss: 0.0419 - accuracy: 0.9956 - val_loss: 1.0185 - val_accuracy: 0.9107\n",
            "Epoch 37/40\n",
            "192/192 [==============================] - 9s 46ms/step - loss: 0.0406 - accuracy: 0.9961 - val_loss: 1.0470 - val_accuracy: 0.9079\n",
            "Epoch 38/40\n",
            "192/192 [==============================] - 7s 39ms/step - loss: 0.0381 - accuracy: 0.9958 - val_loss: 1.0537 - val_accuracy: 0.9094\n",
            "Epoch 39/40\n",
            "192/192 [==============================] - 9s 46ms/step - loss: 0.0376 - accuracy: 0.9964 - val_loss: 1.0577 - val_accuracy: 0.9112\n",
            "Epoch 40/40\n",
            "192/192 [==============================] - 9s 47ms/step - loss: 0.0379 - accuracy: 0.9964 - val_loss: 1.0227 - val_accuracy: 0.9123\n"
          ]
        },
        {
          "output_type": "execute_result",
          "data": {
            "text/plain": [
              "<keras.callbacks.History at 0x7fa7b5512880>"
            ]
          },
          "metadata": {},
          "execution_count": 12
        }
      ]
    },
    {
      "cell_type": "code",
      "source": [
        "pred = model.predict_classes(X_test)\n",
        "confusion_matrix(y_test,pred)"
      ],
      "metadata": {
        "id": "5chJQ9259Mr5",
        "colab": {
          "base_uri": "https://localhost:8080/",
          "height": 183
        },
        "outputId": "190626b8-d3d6-4d9e-d5f6-a6834dc72d01"
      },
      "execution_count": 13,
      "outputs": [
        {
          "ename": "AttributeError",
          "evalue": "ignored",
          "output_type": "error",
          "traceback": [
            "\u001b[0;31m---------------------------------------------------------------------------\u001b[0m",
            "\u001b[0;31mAttributeError\u001b[0m                            Traceback (most recent call last)",
            "\u001b[0;32m<ipython-input-13-789a9760f531>\u001b[0m in \u001b[0;36m<module>\u001b[0;34m\u001b[0m\n\u001b[0;32m----> 1\u001b[0;31m \u001b[0mpred\u001b[0m \u001b[0;34m=\u001b[0m \u001b[0mmodel\u001b[0m\u001b[0;34m.\u001b[0m\u001b[0mpredict_classes\u001b[0m\u001b[0;34m(\u001b[0m\u001b[0mX_test\u001b[0m\u001b[0;34m)\u001b[0m\u001b[0;34m\u001b[0m\u001b[0;34m\u001b[0m\u001b[0m\n\u001b[0m\u001b[1;32m      2\u001b[0m \u001b[0mconfusion_matrix\u001b[0m\u001b[0;34m(\u001b[0m\u001b[0my_test\u001b[0m\u001b[0;34m,\u001b[0m\u001b[0mpred\u001b[0m\u001b[0;34m)\u001b[0m\u001b[0;34m\u001b[0m\u001b[0;34m\u001b[0m\u001b[0m\n",
            "\u001b[0;31mAttributeError\u001b[0m: 'Sequential' object has no attribute 'predict_classes'"
          ]
        }
      ]
    },
    {
      "cell_type": "code",
      "source": [
        "accuracy_score(y_test,pred)"
      ],
      "metadata": {
        "id": "iEJ3FbyF9Mul"
      },
      "execution_count": null,
      "outputs": []
    }
  ]
}